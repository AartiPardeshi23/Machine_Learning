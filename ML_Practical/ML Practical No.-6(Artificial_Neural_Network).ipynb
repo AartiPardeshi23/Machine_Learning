{
 "cells": [
  {
   "cell_type": "code",
   "execution_count": 120,
   "id": "99314204",
   "metadata": {},
   "outputs": [],
   "source": [
    "import pandas as pd\n",
    "import numpy as np\n",
    "import matplotlib.pyplot as plt\n",
    "import seaborn as sns"
   ]
  },
  {
   "cell_type": "code",
   "execution_count": 121,
   "id": "58135441",
   "metadata": {},
   "outputs": [],
   "source": [
    "data = pd.read_csv('diabetics.csv')"
   ]
  },
  {
   "cell_type": "code",
   "execution_count": 122,
   "id": "c9c62b07",
   "metadata": {},
   "outputs": [
    {
     "data": {
      "text/html": [
       "<div>\n",
       "<style scoped>\n",
       "    .dataframe tbody tr th:only-of-type {\n",
       "        vertical-align: middle;\n",
       "    }\n",
       "\n",
       "    .dataframe tbody tr th {\n",
       "        vertical-align: top;\n",
       "    }\n",
       "\n",
       "    .dataframe thead th {\n",
       "        text-align: right;\n",
       "    }\n",
       "</style>\n",
       "<table border=\"1\" class=\"dataframe\">\n",
       "  <thead>\n",
       "    <tr style=\"text-align: right;\">\n",
       "      <th></th>\n",
       "      <th>Pregnancies</th>\n",
       "      <th>Glucose</th>\n",
       "      <th>BloodPressure</th>\n",
       "      <th>SkinThickness</th>\n",
       "      <th>Insulin</th>\n",
       "      <th>BMI</th>\n",
       "      <th>DiabetesPedigreeFunction</th>\n",
       "      <th>Age</th>\n",
       "      <th>Outcome</th>\n",
       "    </tr>\n",
       "  </thead>\n",
       "  <tbody>\n",
       "    <tr>\n",
       "      <th>0</th>\n",
       "      <td>6</td>\n",
       "      <td>148</td>\n",
       "      <td>72</td>\n",
       "      <td>35</td>\n",
       "      <td>0</td>\n",
       "      <td>33.6</td>\n",
       "      <td>0.627</td>\n",
       "      <td>50</td>\n",
       "      <td>1</td>\n",
       "    </tr>\n",
       "    <tr>\n",
       "      <th>1</th>\n",
       "      <td>1</td>\n",
       "      <td>85</td>\n",
       "      <td>66</td>\n",
       "      <td>29</td>\n",
       "      <td>0</td>\n",
       "      <td>26.6</td>\n",
       "      <td>0.351</td>\n",
       "      <td>31</td>\n",
       "      <td>0</td>\n",
       "    </tr>\n",
       "    <tr>\n",
       "      <th>2</th>\n",
       "      <td>8</td>\n",
       "      <td>183</td>\n",
       "      <td>64</td>\n",
       "      <td>0</td>\n",
       "      <td>0</td>\n",
       "      <td>23.3</td>\n",
       "      <td>0.672</td>\n",
       "      <td>32</td>\n",
       "      <td>1</td>\n",
       "    </tr>\n",
       "    <tr>\n",
       "      <th>3</th>\n",
       "      <td>1</td>\n",
       "      <td>89</td>\n",
       "      <td>66</td>\n",
       "      <td>23</td>\n",
       "      <td>94</td>\n",
       "      <td>28.1</td>\n",
       "      <td>0.167</td>\n",
       "      <td>21</td>\n",
       "      <td>0</td>\n",
       "    </tr>\n",
       "    <tr>\n",
       "      <th>4</th>\n",
       "      <td>0</td>\n",
       "      <td>137</td>\n",
       "      <td>40</td>\n",
       "      <td>35</td>\n",
       "      <td>168</td>\n",
       "      <td>43.1</td>\n",
       "      <td>2.288</td>\n",
       "      <td>33</td>\n",
       "      <td>1</td>\n",
       "    </tr>\n",
       "    <tr>\n",
       "      <th>...</th>\n",
       "      <td>...</td>\n",
       "      <td>...</td>\n",
       "      <td>...</td>\n",
       "      <td>...</td>\n",
       "      <td>...</td>\n",
       "      <td>...</td>\n",
       "      <td>...</td>\n",
       "      <td>...</td>\n",
       "      <td>...</td>\n",
       "    </tr>\n",
       "    <tr>\n",
       "      <th>763</th>\n",
       "      <td>10</td>\n",
       "      <td>101</td>\n",
       "      <td>76</td>\n",
       "      <td>48</td>\n",
       "      <td>180</td>\n",
       "      <td>32.9</td>\n",
       "      <td>0.171</td>\n",
       "      <td>63</td>\n",
       "      <td>0</td>\n",
       "    </tr>\n",
       "    <tr>\n",
       "      <th>764</th>\n",
       "      <td>2</td>\n",
       "      <td>122</td>\n",
       "      <td>70</td>\n",
       "      <td>27</td>\n",
       "      <td>0</td>\n",
       "      <td>36.8</td>\n",
       "      <td>0.340</td>\n",
       "      <td>27</td>\n",
       "      <td>0</td>\n",
       "    </tr>\n",
       "    <tr>\n",
       "      <th>765</th>\n",
       "      <td>5</td>\n",
       "      <td>121</td>\n",
       "      <td>72</td>\n",
       "      <td>23</td>\n",
       "      <td>112</td>\n",
       "      <td>26.2</td>\n",
       "      <td>0.245</td>\n",
       "      <td>30</td>\n",
       "      <td>0</td>\n",
       "    </tr>\n",
       "    <tr>\n",
       "      <th>766</th>\n",
       "      <td>1</td>\n",
       "      <td>126</td>\n",
       "      <td>60</td>\n",
       "      <td>0</td>\n",
       "      <td>0</td>\n",
       "      <td>30.1</td>\n",
       "      <td>0.349</td>\n",
       "      <td>47</td>\n",
       "      <td>1</td>\n",
       "    </tr>\n",
       "    <tr>\n",
       "      <th>767</th>\n",
       "      <td>1</td>\n",
       "      <td>93</td>\n",
       "      <td>70</td>\n",
       "      <td>31</td>\n",
       "      <td>0</td>\n",
       "      <td>30.4</td>\n",
       "      <td>0.315</td>\n",
       "      <td>23</td>\n",
       "      <td>0</td>\n",
       "    </tr>\n",
       "  </tbody>\n",
       "</table>\n",
       "<p>768 rows × 9 columns</p>\n",
       "</div>"
      ],
      "text/plain": [
       "     Pregnancies  Glucose  BloodPressure  SkinThickness  Insulin   BMI  \\\n",
       "0              6      148             72             35        0  33.6   \n",
       "1              1       85             66             29        0  26.6   \n",
       "2              8      183             64              0        0  23.3   \n",
       "3              1       89             66             23       94  28.1   \n",
       "4              0      137             40             35      168  43.1   \n",
       "..           ...      ...            ...            ...      ...   ...   \n",
       "763           10      101             76             48      180  32.9   \n",
       "764            2      122             70             27        0  36.8   \n",
       "765            5      121             72             23      112  26.2   \n",
       "766            1      126             60              0        0  30.1   \n",
       "767            1       93             70             31        0  30.4   \n",
       "\n",
       "     DiabetesPedigreeFunction  Age  Outcome  \n",
       "0                       0.627   50        1  \n",
       "1                       0.351   31        0  \n",
       "2                       0.672   32        1  \n",
       "3                       0.167   21        0  \n",
       "4                       2.288   33        1  \n",
       "..                        ...  ...      ...  \n",
       "763                     0.171   63        0  \n",
       "764                     0.340   27        0  \n",
       "765                     0.245   30        0  \n",
       "766                     0.349   47        1  \n",
       "767                     0.315   23        0  \n",
       "\n",
       "[768 rows x 9 columns]"
      ]
     },
     "execution_count": 122,
     "metadata": {},
     "output_type": "execute_result"
    }
   ],
   "source": [
    "data"
   ]
  },
  {
   "cell_type": "code",
   "execution_count": 123,
   "id": "f2c8e662",
   "metadata": {},
   "outputs": [
    {
     "data": {
      "text/html": [
       "<div>\n",
       "<style scoped>\n",
       "    .dataframe tbody tr th:only-of-type {\n",
       "        vertical-align: middle;\n",
       "    }\n",
       "\n",
       "    .dataframe tbody tr th {\n",
       "        vertical-align: top;\n",
       "    }\n",
       "\n",
       "    .dataframe thead th {\n",
       "        text-align: right;\n",
       "    }\n",
       "</style>\n",
       "<table border=\"1\" class=\"dataframe\">\n",
       "  <thead>\n",
       "    <tr style=\"text-align: right;\">\n",
       "      <th></th>\n",
       "      <th>Pregnancies</th>\n",
       "      <th>Glucose</th>\n",
       "      <th>BloodPressure</th>\n",
       "      <th>SkinThickness</th>\n",
       "      <th>Insulin</th>\n",
       "      <th>BMI</th>\n",
       "      <th>DiabetesPedigreeFunction</th>\n",
       "      <th>Age</th>\n",
       "      <th>Outcome</th>\n",
       "    </tr>\n",
       "  </thead>\n",
       "  <tbody>\n",
       "    <tr>\n",
       "      <th>0</th>\n",
       "      <td>6</td>\n",
       "      <td>148</td>\n",
       "      <td>72</td>\n",
       "      <td>35</td>\n",
       "      <td>0</td>\n",
       "      <td>33.6</td>\n",
       "      <td>0.627</td>\n",
       "      <td>50</td>\n",
       "      <td>1</td>\n",
       "    </tr>\n",
       "    <tr>\n",
       "      <th>1</th>\n",
       "      <td>1</td>\n",
       "      <td>85</td>\n",
       "      <td>66</td>\n",
       "      <td>29</td>\n",
       "      <td>0</td>\n",
       "      <td>26.6</td>\n",
       "      <td>0.351</td>\n",
       "      <td>31</td>\n",
       "      <td>0</td>\n",
       "    </tr>\n",
       "    <tr>\n",
       "      <th>2</th>\n",
       "      <td>8</td>\n",
       "      <td>183</td>\n",
       "      <td>64</td>\n",
       "      <td>0</td>\n",
       "      <td>0</td>\n",
       "      <td>23.3</td>\n",
       "      <td>0.672</td>\n",
       "      <td>32</td>\n",
       "      <td>1</td>\n",
       "    </tr>\n",
       "    <tr>\n",
       "      <th>3</th>\n",
       "      <td>1</td>\n",
       "      <td>89</td>\n",
       "      <td>66</td>\n",
       "      <td>23</td>\n",
       "      <td>94</td>\n",
       "      <td>28.1</td>\n",
       "      <td>0.167</td>\n",
       "      <td>21</td>\n",
       "      <td>0</td>\n",
       "    </tr>\n",
       "    <tr>\n",
       "      <th>4</th>\n",
       "      <td>0</td>\n",
       "      <td>137</td>\n",
       "      <td>40</td>\n",
       "      <td>35</td>\n",
       "      <td>168</td>\n",
       "      <td>43.1</td>\n",
       "      <td>2.288</td>\n",
       "      <td>33</td>\n",
       "      <td>1</td>\n",
       "    </tr>\n",
       "  </tbody>\n",
       "</table>\n",
       "</div>"
      ],
      "text/plain": [
       "   Pregnancies  Glucose  BloodPressure  SkinThickness  Insulin   BMI  \\\n",
       "0            6      148             72             35        0  33.6   \n",
       "1            1       85             66             29        0  26.6   \n",
       "2            8      183             64              0        0  23.3   \n",
       "3            1       89             66             23       94  28.1   \n",
       "4            0      137             40             35      168  43.1   \n",
       "\n",
       "   DiabetesPedigreeFunction  Age  Outcome  \n",
       "0                     0.627   50        1  \n",
       "1                     0.351   31        0  \n",
       "2                     0.672   32        1  \n",
       "3                     0.167   21        0  \n",
       "4                     2.288   33        1  "
      ]
     },
     "execution_count": 123,
     "metadata": {},
     "output_type": "execute_result"
    }
   ],
   "source": [
    "data.head()"
   ]
  },
  {
   "cell_type": "code",
   "execution_count": 124,
   "id": "41b9e9b2",
   "metadata": {},
   "outputs": [
    {
     "data": {
      "text/plain": [
       "(768, 9)"
      ]
     },
     "execution_count": 124,
     "metadata": {},
     "output_type": "execute_result"
    }
   ],
   "source": [
    "data.shape"
   ]
  },
  {
   "cell_type": "code",
   "execution_count": 125,
   "id": "7d6cbc06",
   "metadata": {},
   "outputs": [
    {
     "data": {
      "text/plain": [
       "Index(['Pregnancies', 'Glucose', 'BloodPressure', 'SkinThickness', 'Insulin',\n",
       "       'BMI', 'DiabetesPedigreeFunction', 'Age', 'Outcome'],\n",
       "      dtype='object')"
      ]
     },
     "execution_count": 125,
     "metadata": {},
     "output_type": "execute_result"
    }
   ],
   "source": [
    "data.columns"
   ]
  },
  {
   "cell_type": "code",
   "execution_count": 126,
   "id": "0edf348a",
   "metadata": {},
   "outputs": [],
   "source": [
    "x = data.iloc[:,:-1].values"
   ]
  },
  {
   "cell_type": "code",
   "execution_count": 127,
   "id": "9ae8e66f",
   "metadata": {},
   "outputs": [
    {
     "data": {
      "text/plain": [
       "array([[  6.   , 148.   ,  72.   , ...,  33.6  ,   0.627,  50.   ],\n",
       "       [  1.   ,  85.   ,  66.   , ...,  26.6  ,   0.351,  31.   ],\n",
       "       [  8.   , 183.   ,  64.   , ...,  23.3  ,   0.672,  32.   ],\n",
       "       ...,\n",
       "       [  5.   , 121.   ,  72.   , ...,  26.2  ,   0.245,  30.   ],\n",
       "       [  1.   , 126.   ,  60.   , ...,  30.1  ,   0.349,  47.   ],\n",
       "       [  1.   ,  93.   ,  70.   , ...,  30.4  ,   0.315,  23.   ]])"
      ]
     },
     "execution_count": 127,
     "metadata": {},
     "output_type": "execute_result"
    }
   ],
   "source": [
    "x"
   ]
  },
  {
   "cell_type": "code",
   "execution_count": 128,
   "id": "586ed0d3",
   "metadata": {},
   "outputs": [],
   "source": [
    "y = data.Outcome"
   ]
  },
  {
   "cell_type": "code",
   "execution_count": 129,
   "id": "01a0c68c",
   "metadata": {},
   "outputs": [
    {
     "data": {
      "text/plain": [
       "0      1\n",
       "1      0\n",
       "2      1\n",
       "3      0\n",
       "4      1\n",
       "      ..\n",
       "763    0\n",
       "764    0\n",
       "765    0\n",
       "766    1\n",
       "767    0\n",
       "Name: Outcome, Length: 768, dtype: int64"
      ]
     },
     "execution_count": 129,
     "metadata": {},
     "output_type": "execute_result"
    }
   ],
   "source": [
    "y"
   ]
  },
  {
   "cell_type": "code",
   "execution_count": 130,
   "id": "be5c7ea2",
   "metadata": {},
   "outputs": [
    {
     "data": {
      "image/png": "[encoded data removed]",
      "text/plain": [
       "<Figure size 640x480 with 1 Axes>"
      ]
     },
     "metadata": {},
     "output_type": "display_data"
    }
   ],
   "source": [
    "plt.plot(x,y)\n",
    "plt.xlabel(\"Pregnancies, Glucose, BloodPressure, SkinThickness, Insulin,BMI, DiabetesPedigreeFunction, Age\")\n",
    "plt.ylabel(\"Outcome\")\n",
    "plt.title(\"Diabetics\")\n",
    "plt.show()"
   ]
  },
  {
   "cell_type": "code",
   "execution_count": 131,
   "id": "3da8dd78",
   "metadata": {},
   "outputs": [],
   "source": [
    "import sklearn"
   ]
  },
  {
   "cell_type": "code",
   "execution_count": 132,
   "id": "e53a6e24",
   "metadata": {},
   "outputs": [],
   "source": [
    "from sklearn.model_selection import train_test_split"
   ]
  },
  {
   "cell_type": "code",
   "execution_count": 133,
   "id": "ab16d18d",
   "metadata": {},
   "outputs": [],
   "source": [
    "x_train,x_test,y_train,y_test=train_test_split(x,y, random_state=0, train_size=0.70)"
   ]
  },
  {
   "cell_type": "code",
   "execution_count": 134,
   "id": "74976706",
   "metadata": {},
   "outputs": [
    {
     "data": {
      "text/plain": [
       "array([[0.00e+00, 1.51e+02, 9.00e+01, ..., 4.21e+01, 3.71e-01, 2.10e+01],\n",
       "       [1.00e+00, 8.30e+01, 6.80e+01, ..., 1.82e+01, 6.24e-01, 2.70e+01],\n",
       "       [2.00e+00, 1.22e+02, 7.00e+01, ..., 3.68e+01, 3.40e-01, 2.70e+01],\n",
       "       ...,\n",
       "       [4.00e+00, 9.40e+01, 6.50e+01, ..., 2.47e+01, 1.48e-01, 2.10e+01],\n",
       "       [1.10e+01, 8.50e+01, 7.40e+01, ..., 3.01e+01, 3.00e-01, 3.50e+01],\n",
       "       [5.00e+00, 1.36e+02, 8.20e+01, ..., 0.00e+00, 6.40e-01, 6.90e+01]])"
      ]
     },
     "execution_count": 134,
     "metadata": {},
     "output_type": "execute_result"
    }
   ],
   "source": [
    "x_train"
   ]
  },
  {
   "cell_type": "code",
   "execution_count": 135,
   "id": "ea04638c",
   "metadata": {},
   "outputs": [],
   "source": [
    "import tensorflow as tf"
   ]
  },
  {
   "cell_type": "code",
   "execution_count": 136,
   "id": "899b4820",
   "metadata": {},
   "outputs": [],
   "source": [
    "import keras"
   ]
  },
  {
   "cell_type": "code",
   "execution_count": 137,
   "id": "95bb78ad",
   "metadata": {},
   "outputs": [],
   "source": [
    "from keras.models import Sequential"
   ]
  },
  {
   "cell_type": "code",
   "execution_count": 138,
   "id": "53acd098",
   "metadata": {},
   "outputs": [],
   "source": [
    "model = Sequential()"
   ]
  },
  {
   "cell_type": "code",
   "execution_count": 139,
   "id": "2565bf8a",
   "metadata": {},
   "outputs": [],
   "source": [
    "from keras.layers import Dense"
   ]
  },
  {
   "cell_type": "code",
   "execution_count": 140,
   "id": "6cd0a331",
   "metadata": {},
   "outputs": [],
   "source": [
    "#add first hidden layer\n",
    "model.add(Dense(32,activation='relu',input_dim=8))"
   ]
  },
  {
   "cell_type": "code",
   "execution_count": 141,
   "id": "45af194f",
   "metadata": {},
   "outputs": [],
   "source": [
    "#second hidden layer\n",
    "model.add(Dense(16,activation='relu'))"
   ]
  },
  {
   "cell_type": "code",
   "execution_count": 142,
   "id": "c327ecf8",
   "metadata": {},
   "outputs": [],
   "source": [
    "# Output layer\n",
    "model.add(Dense(1,activation='sigmoid'))"
   ]
  },
  {
   "cell_type": "code",
   "execution_count": 143,
   "id": "60b8ef6e",
   "metadata": {},
   "outputs": [],
   "source": [
    "# Compile the model\n",
    "model.compile(optimizer='adam', loss='binary_crossentropy',metrics=['accuracy'])"
   ]
  },
  {
   "cell_type": "code",
   "execution_count": 144,
   "id": "07e4b6a7",
   "metadata": {},
   "outputs": [
    {
     "name": "stdout",
     "output_type": "stream",
     "text": [
      "Epoch 1/20\n",
      "17/17 [==============================] - 1s 3ms/step - loss: 7.8166 - accuracy: 0.4525\n",
      "Epoch 2/20\n",
      "17/17 [==============================] - 0s 2ms/step - loss: 2.5031 - accuracy: 0.5605\n",
      "Epoch 3/20\n",
      "17/17 [==============================] - 0s 3ms/step - loss: 1.7161 - accuracy: 0.5400\n",
      "Epoch 4/20\n",
      "17/17 [==============================] - 0s 4ms/step - loss: 1.3381 - accuracy: 0.5903\n",
      "Epoch 5/20\n",
      "17/17 [==============================] - 0s 3ms/step - loss: 1.1868 - accuracy: 0.5978\n",
      "Epoch 6/20\n",
      "17/17 [==============================] - 0s 3ms/step - loss: 1.0474 - accuracy: 0.6164\n",
      "Epoch 7/20\n",
      "17/17 [==============================] - 0s 3ms/step - loss: 0.9848 - accuracy: 0.6257\n",
      "Epoch 8/20\n",
      "17/17 [==============================] - 0s 3ms/step - loss: 0.9022 - accuracy: 0.6257\n",
      "Epoch 9/20\n",
      "17/17 [==============================] - 0s 3ms/step - loss: 0.8666 - accuracy: 0.6201\n",
      "Epoch 10/20\n",
      "17/17 [==============================] - 0s 3ms/step - loss: 0.9278 - accuracy: 0.6369\n",
      "Epoch 11/20\n",
      "17/17 [==============================] - 0s 4ms/step - loss: 0.8330 - accuracy: 0.6220\n",
      "Epoch 12/20\n",
      "17/17 [==============================] - 0s 3ms/step - loss: 0.8355 - accuracy: 0.6276\n",
      "Epoch 13/20\n",
      "17/17 [==============================] - 0s 3ms/step - loss: 0.7775 - accuracy: 0.6499\n",
      "Epoch 14/20\n",
      "17/17 [==============================] - 0s 3ms/step - loss: 0.8171 - accuracy: 0.6443\n",
      "Epoch 15/20\n",
      "17/17 [==============================] - 0s 3ms/step - loss: 0.6984 - accuracy: 0.6834\n",
      "Epoch 16/20\n",
      "17/17 [==============================] - 0s 3ms/step - loss: 0.7936 - accuracy: 0.6425\n",
      "Epoch 17/20\n",
      "17/17 [==============================] - 0s 3ms/step - loss: 0.7398 - accuracy: 0.6499\n",
      "Epoch 18/20\n",
      "17/17 [==============================] - 0s 2ms/step - loss: 0.7176 - accuracy: 0.6555\n",
      "Epoch 19/20\n",
      "17/17 [==============================] - 0s 3ms/step - loss: 0.6724 - accuracy: 0.6723\n",
      "Epoch 20/20\n",
      "17/17 [==============================] - 0s 3ms/step - loss: 0.6580 - accuracy: 0.6909\n"
     ]
    },
    {
     "data": {
      "text/plain": [
       "<keras.callbacks.History at 0x22d40e14150>"
      ]
     },
     "execution_count": 144,
     "metadata": {},
     "output_type": "execute_result"
    }
   ],
   "source": [
    "# Training for 20 epochs\n",
    "model.fit(x_train,y_train,epochs=20)"
   ]
  },
  {
   "cell_type": "code",
   "execution_count": 145,
   "id": "510137ce",
   "metadata": {},
   "outputs": [
    {
     "name": "stdout",
     "output_type": "stream",
     "text": [
      "17/17 [==============================] - 0s 2ms/step - loss: 0.6397 - accuracy: 0.6629\n"
     ]
    }
   ],
   "source": [
    "# Train and Test Accuracy\n",
    "scores = model.evaluate(x_train,y_train)"
   ]
  },
  {
   "cell_type": "code",
   "execution_count": 146,
   "id": "bfcb3ffb",
   "metadata": {},
   "outputs": [
    {
     "name": "stdout",
     "output_type": "stream",
     "text": [
      "Training Accuracy:  66.29%\n",
      "\n"
     ]
    }
   ],
   "source": [
    "print(\"Training Accuracy: % .2f%%\\n\" % (scores[1]*100))"
   ]
  },
  {
   "cell_type": "code",
   "execution_count": 147,
   "id": "31d18f95",
   "metadata": {},
   "outputs": [
    {
     "name": "stdout",
     "output_type": "stream",
     "text": [
      "8/8 [==============================] - 0s 3ms/step - loss: 0.7388 - accuracy: 0.6061\n"
     ]
    }
   ],
   "source": [
    "scores = model.evaluate(x_test,y_test)"
   ]
  },
  {
   "cell_type": "code",
   "execution_count": 148,
   "id": "c06d6f77",
   "metadata": {},
   "outputs": [
    {
     "name": "stdout",
     "output_type": "stream",
     "text": [
      "Testing Accuracy:  60.61%\n",
      "\n"
     ]
    }
   ],
   "source": [
    "print(\"Testing Accuracy: % .2f%%\\n\" % (scores[1]*100))"
   ]
  },
  {
   "cell_type": "code",
   "execution_count": 149,
   "id": "9d32b51a",
   "metadata": {},
   "outputs": [],
   "source": [
    "from sklearn.metrics import confusion_matrix"
   ]
  },
  {
   "cell_type": "code",
   "execution_count": 150,
   "id": "9dc0bb80",
   "metadata": {},
   "outputs": [
    {
     "name": "stdout",
     "output_type": "stream",
     "text": [
      "8/8 [==============================] - 0s 3ms/step\n"
     ]
    }
   ],
   "source": [
    "y_test_pred = (model.predict(x_test)>0.5).astype(\"int32\")"
   ]
  },
  {
   "cell_type": "code",
   "execution_count": 151,
   "id": "700c9d68",
   "metadata": {},
   "outputs": [
    {
     "name": "stdout",
     "output_type": "stream",
     "text": [
      "[[97 60]\n",
      " [31 43]]\n"
     ]
    }
   ],
   "source": [
    "cm = confusion_matrix(y_test,y_test_pred)\n",
    "print(cm)"
   ]
  },
  {
   "cell_type": "code",
   "execution_count": 152,
   "id": "a66f9bfb",
   "metadata": {},
   "outputs": [
    {
     "data": {
      "image/png": "[encoded data removed]",
      "text/plain": [
       "<Figure size 640x480 with 1 Axes>"
      ]
     },
     "metadata": {},
     "output_type": "display_data"
    }
   ],
   "source": [
    "ax = sns.heatmap(cm, annot=True, xticklabels=[\"No Diabetics\",\"Diabetics\"], yticklabels=[\"No Diabetics\",\"Diabetics\"],\n",
    "                cbar=False,cmap='Blues')\n",
    "ax.set_xlabel('Prediction')\n",
    "ax.set_ylabel('Actual')\n",
    "plt.show()"
   ]
  },
  {
   "cell_type": "markdown",
   "id": "60adc45c",
   "metadata": {},
   "source": [
    "# Epoch Change"
   ]
  },
  {
   "cell_type": "code",
   "execution_count": 76,
   "id": "2ebb27af",
   "metadata": {},
   "outputs": [
    {
     "name": "stdout",
     "output_type": "stream",
     "text": [
      "Epoch 1/50\n",
      "17/17 [==============================] - 0s 2ms/step - loss: 0.5046 - accuracy: 0.7542\n",
      "Epoch 2/50\n",
      "17/17 [==============================] - 0s 3ms/step - loss: 0.4999 - accuracy: 0.7542\n",
      "Epoch 3/50\n",
      "17/17 [==============================] - 0s 3ms/step - loss: 0.5120 - accuracy: 0.7412\n",
      "Epoch 4/50\n",
      "17/17 [==============================] - 0s 3ms/step - loss: 0.5197 - accuracy: 0.7337\n",
      "Epoch 5/50\n",
      "17/17 [==============================] - 0s 3ms/step - loss: 0.5732 - accuracy: 0.7058\n",
      "Epoch 6/50\n",
      "17/17 [==============================] - 0s 3ms/step - loss: 0.5221 - accuracy: 0.7486\n",
      "Epoch 7/50\n",
      "17/17 [==============================] - 0s 3ms/step - loss: 0.5202 - accuracy: 0.7430\n",
      "Epoch 8/50\n",
      "17/17 [==============================] - 0s 3ms/step - loss: 0.5025 - accuracy: 0.7486\n",
      "Epoch 9/50\n",
      "17/17 [==============================] - 0s 3ms/step - loss: 0.5418 - accuracy: 0.7374\n",
      "Epoch 10/50\n",
      "17/17 [==============================] - 0s 3ms/step - loss: 0.4965 - accuracy: 0.7523\n",
      "Epoch 11/50\n",
      "17/17 [==============================] - 0s 3ms/step - loss: 0.5079 - accuracy: 0.7374\n",
      "Epoch 12/50\n",
      "17/17 [==============================] - 0s 3ms/step - loss: 0.5206 - accuracy: 0.7263\n",
      "Epoch 13/50\n",
      "17/17 [==============================] - 0s 3ms/step - loss: 0.5001 - accuracy: 0.7691\n",
      "Epoch 14/50\n",
      "17/17 [==============================] - 0s 3ms/step - loss: 0.5079 - accuracy: 0.7523\n",
      "Epoch 15/50\n",
      "17/17 [==============================] - 0s 3ms/step - loss: 0.4971 - accuracy: 0.7579\n",
      "Epoch 16/50\n",
      "17/17 [==============================] - 0s 3ms/step - loss: 0.5117 - accuracy: 0.7523\n",
      "Epoch 17/50\n",
      "17/17 [==============================] - 0s 6ms/step - loss: 0.5087 - accuracy: 0.7505\n",
      "Epoch 18/50\n",
      "17/17 [==============================] - 0s 2ms/step - loss: 0.4962 - accuracy: 0.7747\n",
      "Epoch 19/50\n",
      "17/17 [==============================] - 0s 2ms/step - loss: 0.5196 - accuracy: 0.7449\n",
      "Epoch 20/50\n",
      "17/17 [==============================] - 0s 2ms/step - loss: 0.4814 - accuracy: 0.7709\n",
      "Epoch 21/50\n",
      "17/17 [==============================] - 0s 2ms/step - loss: 0.4970 - accuracy: 0.7709\n",
      "Epoch 22/50\n",
      "17/17 [==============================] - 0s 4ms/step - loss: 0.4983 - accuracy: 0.7654\n",
      "Epoch 23/50\n",
      "17/17 [==============================] - 0s 3ms/step - loss: 0.4870 - accuracy: 0.7654\n",
      "Epoch 24/50\n",
      "17/17 [==============================] - 0s 3ms/step - loss: 0.4879 - accuracy: 0.7691\n",
      "Epoch 25/50\n",
      "17/17 [==============================] - 0s 3ms/step - loss: 0.4856 - accuracy: 0.7430\n",
      "Epoch 26/50\n",
      "17/17 [==============================] - 0s 3ms/step - loss: 0.4967 - accuracy: 0.7523\n",
      "Epoch 27/50\n",
      "17/17 [==============================] - 0s 3ms/step - loss: 0.5459 - accuracy: 0.7337\n",
      "Epoch 28/50\n",
      "17/17 [==============================] - 0s 3ms/step - loss: 0.5627 - accuracy: 0.7281\n",
      "Epoch 29/50\n",
      "17/17 [==============================] - 0s 3ms/step - loss: 0.5101 - accuracy: 0.7449\n",
      "Epoch 30/50\n",
      "17/17 [==============================] - 0s 3ms/step - loss: 0.4891 - accuracy: 0.7728\n",
      "Epoch 31/50\n",
      "17/17 [==============================] - 0s 3ms/step - loss: 0.4695 - accuracy: 0.7728\n",
      "Epoch 32/50\n",
      "17/17 [==============================] - 0s 3ms/step - loss: 0.4726 - accuracy: 0.7691\n",
      "Epoch 33/50\n",
      "17/17 [==============================] - 0s 3ms/step - loss: 0.5019 - accuracy: 0.7598\n",
      "Epoch 34/50\n",
      "17/17 [==============================] - 0s 3ms/step - loss: 0.5120 - accuracy: 0.7300\n",
      "Epoch 35/50\n",
      "17/17 [==============================] - 0s 2ms/step - loss: 0.4896 - accuracy: 0.7598\n",
      "Epoch 36/50\n",
      "17/17 [==============================] - 0s 3ms/step - loss: 0.4741 - accuracy: 0.7505\n",
      "Epoch 37/50\n",
      "17/17 [==============================] - 0s 2ms/step - loss: 0.5026 - accuracy: 0.7430\n",
      "Epoch 38/50\n",
      "17/17 [==============================] - 0s 3ms/step - loss: 0.5279 - accuracy: 0.7449\n",
      "Epoch 39/50\n",
      "17/17 [==============================] - 0s 3ms/step - loss: 0.5347 - accuracy: 0.7300\n",
      "Epoch 40/50\n",
      "17/17 [==============================] - 0s 2ms/step - loss: 0.4708 - accuracy: 0.7486\n",
      "Epoch 41/50\n",
      "17/17 [==============================] - 0s 2ms/step - loss: 0.4770 - accuracy: 0.7654\n",
      "Epoch 42/50\n",
      "17/17 [==============================] - 0s 2ms/step - loss: 0.4691 - accuracy: 0.7858\n",
      "Epoch 43/50\n",
      "17/17 [==============================] - 0s 2ms/step - loss: 0.5189 - accuracy: 0.7505\n",
      "Epoch 44/50\n",
      "17/17 [==============================] - 0s 2ms/step - loss: 0.5313 - accuracy: 0.7393\n",
      "Epoch 45/50\n",
      "17/17 [==============================] - 0s 2ms/step - loss: 0.4769 - accuracy: 0.7691\n",
      "Epoch 46/50\n",
      "17/17 [==============================] - 0s 2ms/step - loss: 0.5228 - accuracy: 0.7561\n",
      "Epoch 47/50\n",
      "17/17 [==============================] - 0s 2ms/step - loss: 0.4854 - accuracy: 0.7449\n",
      "Epoch 48/50\n",
      "17/17 [==============================] - 0s 2ms/step - loss: 0.4976 - accuracy: 0.7654\n",
      "Epoch 49/50\n",
      "17/17 [==============================] - 0s 2ms/step - loss: 0.4839 - accuracy: 0.7635\n",
      "Epoch 50/50\n",
      "17/17 [==============================] - 0s 3ms/step - loss: 0.4723 - accuracy: 0.7635\n"
     ]
    },
    {
     "data": {
      "text/plain": [
       "<keras.callbacks.History at 0x22d3f7a3550>"
      ]
     },
     "execution_count": 76,
     "metadata": {},
     "output_type": "execute_result"
    }
   ],
   "source": [
    "# Training for 50 epochs\n",
    "model.fit(x_train,y_train,epochs=50)"
   ]
  },
  {
   "cell_type": "code",
   "execution_count": null,
   "id": "94e3f525",
   "metadata": {},
   "outputs": [],
   "source": []
  },
  {
   "cell_type": "code",
   "execution_count": null,
   "id": "a44c6028",
   "metadata": {},
   "outputs": [],
   "source": []
  },
  {
   "cell_type": "code",
   "execution_count": null,
   "id": "1452edc2",
   "metadata": {},
   "outputs": [],
   "source": []
  },
  {
   "cell_type": "markdown",
   "id": "6c0e527f",
   "metadata": {},
   "source": []
  },
  {
   "cell_type": "code",
   "execution_count": 77,
   "id": "3f61d5e0",
   "metadata": {
    "scrolled": false
   },
   "outputs": [
    {
     "name": "stdout",
     "output_type": "stream",
     "text": [
      "Epoch 1/100\n",
      "17/17 [==============================] - 0s 2ms/step - loss: 0.4944 - accuracy: 0.7449\n",
      "Epoch 2/100\n",
      "17/17 [==============================] - 0s 2ms/step - loss: 0.4775 - accuracy: 0.7561\n",
      "Epoch 3/100\n",
      "17/17 [==============================] - 0s 3ms/step - loss: 0.4611 - accuracy: 0.7784\n",
      "Epoch 4/100\n",
      "17/17 [==============================] - 0s 3ms/step - loss: 0.4592 - accuracy: 0.7821\n",
      "Epoch 5/100\n",
      "17/17 [==============================] - 0s 2ms/step - loss: 0.4811 - accuracy: 0.7616\n",
      "Epoch 6/100\n",
      "17/17 [==============================] - 0s 3ms/step - loss: 0.4835 - accuracy: 0.7598\n",
      "Epoch 7/100\n",
      "17/17 [==============================] - 0s 3ms/step - loss: 0.4885 - accuracy: 0.7449\n",
      "Epoch 8/100\n",
      "17/17 [==============================] - 0s 3ms/step - loss: 0.5529 - accuracy: 0.7114\n",
      "Epoch 9/100\n",
      "17/17 [==============================] - 0s 4ms/step - loss: 0.5062 - accuracy: 0.7412\n",
      "Epoch 10/100\n",
      "17/17 [==============================] - 0s 3ms/step - loss: 0.4729 - accuracy: 0.7616\n",
      "Epoch 11/100\n",
      "17/17 [==============================] - 0s 3ms/step - loss: 0.4688 - accuracy: 0.7728\n",
      "Epoch 12/100\n",
      "17/17 [==============================] - 0s 3ms/step - loss: 0.4874 - accuracy: 0.7542\n",
      "Epoch 13/100\n",
      "17/17 [==============================] - 0s 5ms/step - loss: 0.4721 - accuracy: 0.7616\n",
      "Epoch 14/100\n",
      "17/17 [==============================] - 0s 3ms/step - loss: 0.4625 - accuracy: 0.7896\n",
      "Epoch 15/100\n",
      "17/17 [==============================] - 0s 2ms/step - loss: 0.5580 - accuracy: 0.7281\n",
      "Epoch 16/100\n",
      "17/17 [==============================] - 0s 2ms/step - loss: 0.4658 - accuracy: 0.7821\n",
      "Epoch 17/100\n",
      "17/17 [==============================] - 0s 2ms/step - loss: 0.5090 - accuracy: 0.7467\n",
      "Epoch 18/100\n",
      "17/17 [==============================] - 0s 2ms/step - loss: 0.5468 - accuracy: 0.7486\n",
      "Epoch 19/100\n",
      "17/17 [==============================] - 0s 2ms/step - loss: 0.4933 - accuracy: 0.7803\n",
      "Epoch 20/100\n",
      "17/17 [==============================] - 0s 2ms/step - loss: 0.4892 - accuracy: 0.7486\n",
      "Epoch 21/100\n",
      "17/17 [==============================] - 0s 2ms/step - loss: 0.5237 - accuracy: 0.7523\n",
      "Epoch 22/100\n",
      "17/17 [==============================] - 0s 3ms/step - loss: 0.4872 - accuracy: 0.7542\n",
      "Epoch 23/100\n",
      "17/17 [==============================] - 0s 3ms/step - loss: 0.4704 - accuracy: 0.7747\n",
      "Epoch 24/100\n",
      "17/17 [==============================] - 0s 3ms/step - loss: 0.4518 - accuracy: 0.7877\n",
      "Epoch 25/100\n",
      "17/17 [==============================] - 0s 3ms/step - loss: 0.4732 - accuracy: 0.7709\n",
      "Epoch 26/100\n",
      "17/17 [==============================] - 0s 3ms/step - loss: 0.4663 - accuracy: 0.7821\n",
      "Epoch 27/100\n",
      "17/17 [==============================] - 0s 3ms/step - loss: 0.4857 - accuracy: 0.7542\n",
      "Epoch 28/100\n",
      "17/17 [==============================] - 0s 2ms/step - loss: 0.5823 - accuracy: 0.7337\n",
      "Epoch 29/100\n",
      "17/17 [==============================] - 0s 2ms/step - loss: 0.4793 - accuracy: 0.7467\n",
      "Epoch 30/100\n",
      "17/17 [==============================] - 0s 3ms/step - loss: 0.4924 - accuracy: 0.7709\n",
      "Epoch 31/100\n",
      "17/17 [==============================] - 0s 2ms/step - loss: 0.4785 - accuracy: 0.7709\n",
      "Epoch 32/100\n",
      "17/17 [==============================] - 0s 2ms/step - loss: 0.4627 - accuracy: 0.7877\n",
      "Epoch 33/100\n",
      "17/17 [==============================] - 0s 2ms/step - loss: 0.4652 - accuracy: 0.7765\n",
      "Epoch 34/100\n",
      "17/17 [==============================] - 0s 2ms/step - loss: 0.4512 - accuracy: 0.7896\n",
      "Epoch 35/100\n",
      "17/17 [==============================] - 0s 2ms/step - loss: 0.4733 - accuracy: 0.7672\n",
      "Epoch 36/100\n",
      "17/17 [==============================] - 0s 2ms/step - loss: 0.4462 - accuracy: 0.7970\n",
      "Epoch 37/100\n",
      "17/17 [==============================] - 0s 2ms/step - loss: 0.4559 - accuracy: 0.7803\n",
      "Epoch 38/100\n",
      "17/17 [==============================] - 0s 2ms/step - loss: 0.4631 - accuracy: 0.7709\n",
      "Epoch 39/100\n",
      "17/17 [==============================] - 0s 2ms/step - loss: 0.5129 - accuracy: 0.7374\n",
      "Epoch 40/100\n",
      "17/17 [==============================] - 0s 2ms/step - loss: 0.4885 - accuracy: 0.7579\n",
      "Epoch 41/100\n",
      "17/17 [==============================] - 0s 2ms/step - loss: 0.4546 - accuracy: 0.7877\n",
      "Epoch 42/100\n",
      "17/17 [==============================] - 0s 2ms/step - loss: 0.5257 - accuracy: 0.7244\n",
      "Epoch 43/100\n",
      "17/17 [==============================] - 0s 3ms/step - loss: 0.5387 - accuracy: 0.7412\n",
      "Epoch 44/100\n",
      "17/17 [==============================] - 0s 3ms/step - loss: 0.4887 - accuracy: 0.7654\n",
      "Epoch 45/100\n",
      "17/17 [==============================] - 0s 3ms/step - loss: 0.4765 - accuracy: 0.7840\n",
      "Epoch 46/100\n",
      "17/17 [==============================] - 0s 3ms/step - loss: 0.4701 - accuracy: 0.7840\n",
      "Epoch 47/100\n",
      "17/17 [==============================] - 0s 4ms/step - loss: 0.4800 - accuracy: 0.7561\n",
      "Epoch 48/100\n",
      "17/17 [==============================] - 0s 2ms/step - loss: 0.4514 - accuracy: 0.7709\n",
      "Epoch 49/100\n",
      "17/17 [==============================] - 0s 2ms/step - loss: 0.4719 - accuracy: 0.7840\n",
      "Epoch 50/100\n",
      "17/17 [==============================] - 0s 2ms/step - loss: 0.4611 - accuracy: 0.7709\n",
      "Epoch 51/100\n",
      "17/17 [==============================] - 0s 3ms/step - loss: 0.4560 - accuracy: 0.7803\n",
      "Epoch 52/100\n",
      "17/17 [==============================] - 0s 3ms/step - loss: 0.4417 - accuracy: 0.7952\n",
      "Epoch 53/100\n",
      "17/17 [==============================] - 0s 3ms/step - loss: 0.4684 - accuracy: 0.7598\n",
      "Epoch 54/100\n",
      "17/17 [==============================] - 0s 3ms/step - loss: 0.4480 - accuracy: 0.7765\n",
      "Epoch 55/100\n",
      "17/17 [==============================] - 0s 3ms/step - loss: 0.4567 - accuracy: 0.7765\n",
      "Epoch 56/100\n",
      "17/17 [==============================] - 0s 3ms/step - loss: 0.4502 - accuracy: 0.7896\n",
      "Epoch 57/100\n",
      "17/17 [==============================] - 0s 3ms/step - loss: 0.4762 - accuracy: 0.7691\n",
      "Epoch 58/100\n",
      "17/17 [==============================] - 0s 3ms/step - loss: 0.4688 - accuracy: 0.7561\n",
      "Epoch 59/100\n",
      "17/17 [==============================] - 0s 3ms/step - loss: 0.5530 - accuracy: 0.7505\n",
      "Epoch 60/100\n",
      "17/17 [==============================] - 0s 3ms/step - loss: 0.5116 - accuracy: 0.7542\n",
      "Epoch 61/100\n",
      "17/17 [==============================] - 0s 2ms/step - loss: 0.4778 - accuracy: 0.7691\n",
      "Epoch 62/100\n",
      "17/17 [==============================] - 0s 4ms/step - loss: 0.4720 - accuracy: 0.7840\n",
      "Epoch 63/100\n",
      "17/17 [==============================] - 0s 2ms/step - loss: 0.4658 - accuracy: 0.7654\n",
      "Epoch 64/100\n",
      "17/17 [==============================] - 0s 2ms/step - loss: 0.4758 - accuracy: 0.7616\n",
      "Epoch 65/100\n",
      "17/17 [==============================] - 0s 3ms/step - loss: 0.4618 - accuracy: 0.7877\n",
      "Epoch 66/100\n",
      "17/17 [==============================] - 0s 3ms/step - loss: 0.4614 - accuracy: 0.7747\n",
      "Epoch 67/100\n",
      "17/17 [==============================] - 0s 3ms/step - loss: 0.4420 - accuracy: 0.7877\n",
      "Epoch 68/100\n",
      "17/17 [==============================] - 0s 2ms/step - loss: 0.4361 - accuracy: 0.7803\n",
      "Epoch 69/100\n",
      "17/17 [==============================] - 0s 3ms/step - loss: 0.4947 - accuracy: 0.7635\n",
      "Epoch 70/100\n",
      "17/17 [==============================] - 0s 3ms/step - loss: 0.4447 - accuracy: 0.7765\n",
      "Epoch 71/100\n",
      "17/17 [==============================] - 0s 3ms/step - loss: 0.4623 - accuracy: 0.7933\n",
      "Epoch 72/100\n",
      "17/17 [==============================] - 0s 2ms/step - loss: 0.4308 - accuracy: 0.7989\n",
      "Epoch 73/100\n",
      "17/17 [==============================] - 0s 2ms/step - loss: 0.4320 - accuracy: 0.7803\n",
      "Epoch 74/100\n",
      "17/17 [==============================] - 0s 2ms/step - loss: 0.4360 - accuracy: 0.7784\n",
      "Epoch 75/100\n",
      "17/17 [==============================] - 0s 3ms/step - loss: 0.4293 - accuracy: 0.8007\n",
      "Epoch 76/100\n",
      "17/17 [==============================] - 0s 3ms/step - loss: 0.4536 - accuracy: 0.7821\n",
      "Epoch 77/100\n",
      "17/17 [==============================] - 0s 4ms/step - loss: 0.4259 - accuracy: 0.7877\n",
      "Epoch 78/100\n",
      "17/17 [==============================] - 0s 3ms/step - loss: 0.4524 - accuracy: 0.7821\n",
      "Epoch 79/100\n",
      "17/17 [==============================] - 0s 3ms/step - loss: 0.4558 - accuracy: 0.7747\n",
      "Epoch 80/100\n",
      "17/17 [==============================] - 0s 4ms/step - loss: 0.4359 - accuracy: 0.7747\n",
      "Epoch 81/100\n",
      "17/17 [==============================] - 0s 3ms/step - loss: 0.4324 - accuracy: 0.8026\n",
      "Epoch 82/100\n",
      "17/17 [==============================] - 0s 3ms/step - loss: 0.4402 - accuracy: 0.7896\n",
      "Epoch 83/100\n"
     ]
    },
    {
     "name": "stdout",
     "output_type": "stream",
     "text": [
      "17/17 [==============================] - 0s 2ms/step - loss: 0.4432 - accuracy: 0.7840\n",
      "Epoch 84/100\n",
      "17/17 [==============================] - 0s 2ms/step - loss: 0.4518 - accuracy: 0.7877\n",
      "Epoch 85/100\n",
      "17/17 [==============================] - 0s 2ms/step - loss: 0.4333 - accuracy: 0.7858\n",
      "Epoch 86/100\n",
      "17/17 [==============================] - 0s 2ms/step - loss: 0.4453 - accuracy: 0.7877\n",
      "Epoch 87/100\n",
      "17/17 [==============================] - 0s 2ms/step - loss: 0.4401 - accuracy: 0.7989\n",
      "Epoch 88/100\n",
      "17/17 [==============================] - 0s 2ms/step - loss: 0.5370 - accuracy: 0.7225\n",
      "Epoch 89/100\n",
      "17/17 [==============================] - 0s 3ms/step - loss: 0.4651 - accuracy: 0.7654\n",
      "Epoch 90/100\n",
      "17/17 [==============================] - 0s 3ms/step - loss: 0.4444 - accuracy: 0.7840\n",
      "Epoch 91/100\n",
      "17/17 [==============================] - 0s 4ms/step - loss: 0.4290 - accuracy: 0.8082\n",
      "Epoch 92/100\n",
      "17/17 [==============================] - 0s 3ms/step - loss: 0.4417 - accuracy: 0.7858\n",
      "Epoch 93/100\n",
      "17/17 [==============================] - 0s 4ms/step - loss: 0.4426 - accuracy: 0.7821\n",
      "Epoch 94/100\n",
      "17/17 [==============================] - 0s 4ms/step - loss: 0.4755 - accuracy: 0.7784\n",
      "Epoch 95/100\n",
      "17/17 [==============================] - 0s 2ms/step - loss: 0.4317 - accuracy: 0.7728\n",
      "Epoch 96/100\n",
      "17/17 [==============================] - 0s 2ms/step - loss: 0.4293 - accuracy: 0.7914\n",
      "Epoch 97/100\n",
      "17/17 [==============================] - 0s 3ms/step - loss: 0.4453 - accuracy: 0.7858\n",
      "Epoch 98/100\n",
      "17/17 [==============================] - 0s 2ms/step - loss: 0.4303 - accuracy: 0.8026\n",
      "Epoch 99/100\n",
      "17/17 [==============================] - 0s 3ms/step - loss: 0.4522 - accuracy: 0.7821\n",
      "Epoch 100/100\n",
      "17/17 [==============================] - 0s 3ms/step - loss: 0.4241 - accuracy: 0.8138\n"
     ]
    },
    {
     "data": {
      "text/plain": [
       "<keras.callbacks.History at 0x22d3f6ac750>"
      ]
     },
     "execution_count": 77,
     "metadata": {},
     "output_type": "execute_result"
    }
   ],
   "source": [
    "# Training for 100 epochs\n",
    "model.fit(x_train,y_train,epochs=100)"
   ]
  },
  {
   "cell_type": "code",
   "execution_count": null,
   "id": "f420a2ad",
   "metadata": {},
   "outputs": [],
   "source": []
  },
  {
   "cell_type": "code",
   "execution_count": null,
   "id": "373849db",
   "metadata": {},
   "outputs": [],
   "source": []
  },
  {
   "cell_type": "code",
   "execution_count": null,
   "id": "64f6f702",
   "metadata": {},
   "outputs": [],
   "source": []
  },
  {
   "cell_type": "markdown",
   "id": "e5fee30e",
   "metadata": {},
   "source": []
  },
  {
   "cell_type": "code",
   "execution_count": 78,
   "id": "8723511f",
   "metadata": {
    "scrolled": false
   },
   "outputs": [
    {
     "name": "stdout",
     "output_type": "stream",
     "text": [
      "Epoch 1/200\n",
      "17/17 [==============================] - 0s 4ms/step - loss: 0.4351 - accuracy: 0.7784\n",
      "Epoch 2/200\n",
      "17/17 [==============================] - 0s 4ms/step - loss: 0.4487 - accuracy: 0.7933\n",
      "Epoch 3/200\n",
      "17/17 [==============================] - 0s 4ms/step - loss: 0.5007 - accuracy: 0.7709\n",
      "Epoch 4/200\n",
      "17/17 [==============================] - 0s 3ms/step - loss: 0.4461 - accuracy: 0.7840\n",
      "Epoch 5/200\n",
      "17/17 [==============================] - 0s 4ms/step - loss: 0.4287 - accuracy: 0.7989\n",
      "Epoch 6/200\n",
      "17/17 [==============================] - 0s 3ms/step - loss: 0.4120 - accuracy: 0.8063\n",
      "Epoch 7/200\n",
      "17/17 [==============================] - 0s 3ms/step - loss: 0.4129 - accuracy: 0.8007\n",
      "Epoch 8/200\n",
      "17/17 [==============================] - 0s 3ms/step - loss: 0.4237 - accuracy: 0.7858\n",
      "Epoch 9/200\n",
      "17/17 [==============================] - 0s 3ms/step - loss: 0.4466 - accuracy: 0.7803\n",
      "Epoch 10/200\n",
      "17/17 [==============================] - 0s 3ms/step - loss: 0.4186 - accuracy: 0.8007\n",
      "Epoch 11/200\n",
      "17/17 [==============================] - 0s 3ms/step - loss: 0.4360 - accuracy: 0.8007\n",
      "Epoch 12/200\n",
      "17/17 [==============================] - 0s 3ms/step - loss: 0.4357 - accuracy: 0.7821\n",
      "Epoch 13/200\n",
      "17/17 [==============================] - 0s 3ms/step - loss: 0.4214 - accuracy: 0.8007\n",
      "Epoch 14/200\n",
      "17/17 [==============================] - 0s 3ms/step - loss: 0.4472 - accuracy: 0.7914\n",
      "Epoch 15/200\n",
      "17/17 [==============================] - 0s 3ms/step - loss: 0.4704 - accuracy: 0.7523\n",
      "Epoch 16/200\n",
      "17/17 [==============================] - 0s 3ms/step - loss: 0.4675 - accuracy: 0.7542\n",
      "Epoch 17/200\n",
      "17/17 [==============================] - 0s 3ms/step - loss: 0.4597 - accuracy: 0.7747\n",
      "Epoch 18/200\n",
      "17/17 [==============================] - 0s 3ms/step - loss: 0.4810 - accuracy: 0.7654\n",
      "Epoch 19/200\n",
      "17/17 [==============================] - 0s 3ms/step - loss: 0.4357 - accuracy: 0.7858\n",
      "Epoch 20/200\n",
      "17/17 [==============================] - 0s 3ms/step - loss: 0.4230 - accuracy: 0.7914\n",
      "Epoch 21/200\n",
      "17/17 [==============================] - 0s 2ms/step - loss: 0.4291 - accuracy: 0.7877\n",
      "Epoch 22/200\n",
      "17/17 [==============================] - 0s 3ms/step - loss: 0.4338 - accuracy: 0.7784\n",
      "Epoch 23/200\n",
      "17/17 [==============================] - 0s 3ms/step - loss: 0.4341 - accuracy: 0.8026\n",
      "Epoch 24/200\n",
      "17/17 [==============================] - 0s 3ms/step - loss: 0.4551 - accuracy: 0.7821\n",
      "Epoch 25/200\n",
      "17/17 [==============================] - 0s 3ms/step - loss: 0.4266 - accuracy: 0.8007\n",
      "Epoch 26/200\n",
      "17/17 [==============================] - 0s 3ms/step - loss: 0.4627 - accuracy: 0.7523\n",
      "Epoch 27/200\n",
      "17/17 [==============================] - 0s 3ms/step - loss: 0.4225 - accuracy: 0.7914\n",
      "Epoch 28/200\n",
      "17/17 [==============================] - 0s 3ms/step - loss: 0.4394 - accuracy: 0.7877\n",
      "Epoch 29/200\n",
      "17/17 [==============================] - 0s 3ms/step - loss: 0.4534 - accuracy: 0.7635\n",
      "Epoch 30/200\n",
      "17/17 [==============================] - 0s 2ms/step - loss: 0.4615 - accuracy: 0.7784\n",
      "Epoch 31/200\n",
      "17/17 [==============================] - 0s 3ms/step - loss: 0.4293 - accuracy: 0.7989\n",
      "Epoch 32/200\n",
      "17/17 [==============================] - 0s 3ms/step - loss: 0.4169 - accuracy: 0.7989\n",
      "Epoch 33/200\n",
      "17/17 [==============================] - 0s 3ms/step - loss: 0.4210 - accuracy: 0.7821\n",
      "Epoch 34/200\n",
      "17/17 [==============================] - 0s 4ms/step - loss: 0.4612 - accuracy: 0.7709\n",
      "Epoch 35/200\n",
      "17/17 [==============================] - 0s 4ms/step - loss: 0.4349 - accuracy: 0.8045\n",
      "Epoch 36/200\n",
      "17/17 [==============================] - 0s 3ms/step - loss: 0.4233 - accuracy: 0.8082\n",
      "Epoch 37/200\n",
      "17/17 [==============================] - 0s 3ms/step - loss: 0.4433 - accuracy: 0.7914\n",
      "Epoch 38/200\n",
      "17/17 [==============================] - 0s 3ms/step - loss: 0.4390 - accuracy: 0.7952\n",
      "Epoch 39/200\n",
      "17/17 [==============================] - 0s 4ms/step - loss: 0.4503 - accuracy: 0.7747\n",
      "Epoch 40/200\n",
      "17/17 [==============================] - 0s 2ms/step - loss: 0.4405 - accuracy: 0.7933\n",
      "Epoch 41/200\n",
      "17/17 [==============================] - 0s 2ms/step - loss: 0.4228 - accuracy: 0.7952\n",
      "Epoch 42/200\n",
      "17/17 [==============================] - 0s 3ms/step - loss: 0.4051 - accuracy: 0.8138\n",
      "Epoch 43/200\n",
      "17/17 [==============================] - 0s 2ms/step - loss: 0.4141 - accuracy: 0.8007\n",
      "Epoch 44/200\n",
      "17/17 [==============================] - 0s 3ms/step - loss: 0.4105 - accuracy: 0.7933\n",
      "Epoch 45/200\n",
      "17/17 [==============================] - 0s 3ms/step - loss: 0.4277 - accuracy: 0.7840\n",
      "Epoch 46/200\n",
      "17/17 [==============================] - 0s 5ms/step - loss: 0.4138 - accuracy: 0.7914\n",
      "Epoch 47/200\n",
      "17/17 [==============================] - 0s 3ms/step - loss: 0.4320 - accuracy: 0.7952\n",
      "Epoch 48/200\n",
      "17/17 [==============================] - 0s 3ms/step - loss: 0.4336 - accuracy: 0.7877\n",
      "Epoch 49/200\n",
      "17/17 [==============================] - 0s 3ms/step - loss: 0.4181 - accuracy: 0.7933\n",
      "Epoch 50/200\n",
      "17/17 [==============================] - 0s 3ms/step - loss: 0.4427 - accuracy: 0.7709\n",
      "Epoch 51/200\n",
      "17/17 [==============================] - 0s 3ms/step - loss: 0.4185 - accuracy: 0.8007\n",
      "Epoch 52/200\n",
      "17/17 [==============================] - 0s 3ms/step - loss: 0.4517 - accuracy: 0.7784\n",
      "Epoch 53/200\n",
      "17/17 [==============================] - 0s 3ms/step - loss: 0.5122 - accuracy: 0.7821\n",
      "Epoch 54/200\n",
      "17/17 [==============================] - 0s 3ms/step - loss: 0.4782 - accuracy: 0.7709\n",
      "Epoch 55/200\n",
      "17/17 [==============================] - 0s 2ms/step - loss: 0.5035 - accuracy: 0.7616\n",
      "Epoch 56/200\n",
      "17/17 [==============================] - 0s 3ms/step - loss: 0.4362 - accuracy: 0.7858\n",
      "Epoch 57/200\n",
      "17/17 [==============================] - 0s 3ms/step - loss: 0.4510 - accuracy: 0.7821\n",
      "Epoch 58/200\n",
      "17/17 [==============================] - 0s 2ms/step - loss: 0.4333 - accuracy: 0.7952\n",
      "Epoch 59/200\n",
      "17/17 [==============================] - 0s 2ms/step - loss: 0.4262 - accuracy: 0.7896\n",
      "Epoch 60/200\n",
      "17/17 [==============================] - 0s 2ms/step - loss: 0.4875 - accuracy: 0.7579\n",
      "Epoch 61/200\n",
      "17/17 [==============================] - 0s 2ms/step - loss: 0.4576 - accuracy: 0.7672\n",
      "Epoch 62/200\n",
      "17/17 [==============================] - 0s 2ms/step - loss: 0.4071 - accuracy: 0.8026\n",
      "Epoch 63/200\n",
      "17/17 [==============================] - 0s 3ms/step - loss: 0.4394 - accuracy: 0.7952\n",
      "Epoch 64/200\n",
      "17/17 [==============================] - 0s 3ms/step - loss: 0.4347 - accuracy: 0.8063\n",
      "Epoch 65/200\n",
      "17/17 [==============================] - 0s 4ms/step - loss: 0.4048 - accuracy: 0.8026\n",
      "Epoch 66/200\n",
      "17/17 [==============================] - 0s 4ms/step - loss: 0.4244 - accuracy: 0.7765\n",
      "Epoch 67/200\n",
      "17/17 [==============================] - 0s 4ms/step - loss: 0.4207 - accuracy: 0.8138\n",
      "Epoch 68/200\n",
      "17/17 [==============================] - 0s 4ms/step - loss: 0.4054 - accuracy: 0.8045\n",
      "Epoch 69/200\n",
      "17/17 [==============================] - 0s 3ms/step - loss: 0.4227 - accuracy: 0.8175\n",
      "Epoch 70/200\n",
      "17/17 [==============================] - 0s 3ms/step - loss: 0.4318 - accuracy: 0.7858\n",
      "Epoch 71/200\n",
      "17/17 [==============================] - 0s 3ms/step - loss: 0.4152 - accuracy: 0.8045\n",
      "Epoch 72/200\n",
      "17/17 [==============================] - 0s 3ms/step - loss: 0.4001 - accuracy: 0.8119\n",
      "Epoch 73/200\n",
      "17/17 [==============================] - 0s 3ms/step - loss: 0.4079 - accuracy: 0.8156\n",
      "Epoch 74/200\n",
      "17/17 [==============================] - 0s 3ms/step - loss: 0.4248 - accuracy: 0.8082\n",
      "Epoch 75/200\n",
      "17/17 [==============================] - 0s 3ms/step - loss: 0.4407 - accuracy: 0.7616\n",
      "Epoch 76/200\n",
      "17/17 [==============================] - 0s 2ms/step - loss: 0.4179 - accuracy: 0.8045\n",
      "Epoch 77/200\n",
      "17/17 [==============================] - 0s 3ms/step - loss: 0.4295 - accuracy: 0.8007\n",
      "Epoch 78/200\n",
      "17/17 [==============================] - 0s 3ms/step - loss: 0.4356 - accuracy: 0.7933\n",
      "Epoch 79/200\n",
      "17/17 [==============================] - 0s 3ms/step - loss: 0.3983 - accuracy: 0.8063\n",
      "Epoch 80/200\n",
      "17/17 [==============================] - 0s 3ms/step - loss: 0.4090 - accuracy: 0.8045\n",
      "Epoch 81/200\n",
      "17/17 [==============================] - 0s 3ms/step - loss: 0.4212 - accuracy: 0.8063\n",
      "Epoch 82/200\n",
      "17/17 [==============================] - 0s 3ms/step - loss: 0.4413 - accuracy: 0.8007\n",
      "Epoch 83/200\n"
     ]
    },
    {
     "name": "stdout",
     "output_type": "stream",
     "text": [
      "17/17 [==============================] - 0s 4ms/step - loss: 0.4648 - accuracy: 0.7747\n",
      "Epoch 84/200\n",
      "17/17 [==============================] - 0s 3ms/step - loss: 0.4359 - accuracy: 0.7933\n",
      "Epoch 85/200\n",
      "17/17 [==============================] - 0s 3ms/step - loss: 0.4170 - accuracy: 0.8082\n",
      "Epoch 86/200\n",
      "17/17 [==============================] - 0s 3ms/step - loss: 0.3999 - accuracy: 0.8119\n",
      "Epoch 87/200\n",
      "17/17 [==============================] - 0s 3ms/step - loss: 0.4084 - accuracy: 0.8026\n",
      "Epoch 88/200\n",
      "17/17 [==============================] - 0s 3ms/step - loss: 0.4058 - accuracy: 0.8082\n",
      "Epoch 89/200\n",
      "17/17 [==============================] - 0s 3ms/step - loss: 0.4506 - accuracy: 0.7933\n",
      "Epoch 90/200\n",
      "17/17 [==============================] - 0s 3ms/step - loss: 0.4430 - accuracy: 0.7933\n",
      "Epoch 91/200\n",
      "17/17 [==============================] - 0s 3ms/step - loss: 0.4323 - accuracy: 0.7896\n",
      "Epoch 92/200\n",
      "17/17 [==============================] - 0s 3ms/step - loss: 0.4462 - accuracy: 0.7821\n",
      "Epoch 93/200\n",
      "17/17 [==============================] - 0s 3ms/step - loss: 0.4165 - accuracy: 0.7896\n",
      "Epoch 94/200\n",
      "17/17 [==============================] - 0s 3ms/step - loss: 0.4050 - accuracy: 0.8175\n",
      "Epoch 95/200\n",
      "17/17 [==============================] - 0s 3ms/step - loss: 0.4268 - accuracy: 0.7914\n",
      "Epoch 96/200\n",
      "17/17 [==============================] - 0s 3ms/step - loss: 0.4135 - accuracy: 0.8063\n",
      "Epoch 97/200\n",
      "17/17 [==============================] - 0s 3ms/step - loss: 0.4301 - accuracy: 0.7803\n",
      "Epoch 98/200\n",
      "17/17 [==============================] - 0s 3ms/step - loss: 0.4075 - accuracy: 0.8138\n",
      "Epoch 99/200\n",
      "17/17 [==============================] - 0s 3ms/step - loss: 0.3940 - accuracy: 0.8082\n",
      "Epoch 100/200\n",
      "17/17 [==============================] - 0s 3ms/step - loss: 0.3896 - accuracy: 0.8212\n",
      "Epoch 101/200\n",
      "17/17 [==============================] - 0s 3ms/step - loss: 0.4087 - accuracy: 0.8045\n",
      "Epoch 102/200\n",
      "17/17 [==============================] - 0s 3ms/step - loss: 0.4200 - accuracy: 0.8026\n",
      "Epoch 103/200\n",
      "17/17 [==============================] - 0s 3ms/step - loss: 0.4599 - accuracy: 0.7709\n",
      "Epoch 104/200\n",
      "17/17 [==============================] - 0s 3ms/step - loss: 0.4497 - accuracy: 0.7896\n",
      "Epoch 105/200\n",
      "17/17 [==============================] - 0s 3ms/step - loss: 0.4065 - accuracy: 0.7896\n",
      "Epoch 106/200\n",
      "17/17 [==============================] - 0s 3ms/step - loss: 0.4515 - accuracy: 0.7728\n",
      "Epoch 107/200\n",
      "17/17 [==============================] - 0s 3ms/step - loss: 0.4054 - accuracy: 0.7989\n",
      "Epoch 108/200\n",
      "17/17 [==============================] - 0s 4ms/step - loss: 0.4442 - accuracy: 0.7821\n",
      "Epoch 109/200\n",
      "17/17 [==============================] - 0s 4ms/step - loss: 0.4373 - accuracy: 0.7933\n",
      "Epoch 110/200\n",
      "17/17 [==============================] - 0s 3ms/step - loss: 0.4930 - accuracy: 0.7691\n",
      "Epoch 111/200\n",
      "17/17 [==============================] - 0s 3ms/step - loss: 0.5223 - accuracy: 0.7747\n",
      "Epoch 112/200\n",
      "17/17 [==============================] - 0s 3ms/step - loss: 0.4691 - accuracy: 0.7709\n",
      "Epoch 113/200\n",
      "17/17 [==============================] - 0s 3ms/step - loss: 0.4577 - accuracy: 0.7821\n",
      "Epoch 114/200\n",
      "17/17 [==============================] - 0s 3ms/step - loss: 0.4135 - accuracy: 0.7970\n",
      "Epoch 115/200\n",
      "17/17 [==============================] - 0s 3ms/step - loss: 0.4136 - accuracy: 0.7970\n",
      "Epoch 116/200\n",
      "17/17 [==============================] - 0s 3ms/step - loss: 0.3996 - accuracy: 0.8175\n",
      "Epoch 117/200\n",
      "17/17 [==============================] - 0s 3ms/step - loss: 0.4133 - accuracy: 0.8156\n",
      "Epoch 118/200\n",
      "17/17 [==============================] - 0s 3ms/step - loss: 0.4017 - accuracy: 0.7914\n",
      "Epoch 119/200\n",
      "17/17 [==============================] - 0s 5ms/step - loss: 0.4060 - accuracy: 0.8156\n",
      "Epoch 120/200\n",
      "17/17 [==============================] - 0s 2ms/step - loss: 0.4167 - accuracy: 0.8045\n",
      "Epoch 121/200\n",
      "17/17 [==============================] - 0s 3ms/step - loss: 0.4096 - accuracy: 0.8007\n",
      "Epoch 122/200\n",
      "17/17 [==============================] - 0s 3ms/step - loss: 0.4073 - accuracy: 0.8101\n",
      "Epoch 123/200\n",
      "17/17 [==============================] - 0s 3ms/step - loss: 0.4093 - accuracy: 0.8138\n",
      "Epoch 124/200\n",
      "17/17 [==============================] - 0s 3ms/step - loss: 0.4466 - accuracy: 0.7728\n",
      "Epoch 125/200\n",
      "17/17 [==============================] - 0s 3ms/step - loss: 0.4094 - accuracy: 0.8007\n",
      "Epoch 126/200\n",
      "17/17 [==============================] - 0s 3ms/step - loss: 0.4205 - accuracy: 0.8212\n",
      "Epoch 127/200\n",
      "17/17 [==============================] - 0s 3ms/step - loss: 0.4156 - accuracy: 0.8045\n",
      "Epoch 128/200\n",
      "17/17 [==============================] - 0s 3ms/step - loss: 0.4096 - accuracy: 0.7970\n",
      "Epoch 129/200\n",
      "17/17 [==============================] - 0s 2ms/step - loss: 0.3877 - accuracy: 0.8156\n",
      "Epoch 130/200\n",
      "17/17 [==============================] - 0s 3ms/step - loss: 0.3940 - accuracy: 0.8101\n",
      "Epoch 131/200\n",
      "17/17 [==============================] - 0s 3ms/step - loss: 0.4812 - accuracy: 0.7840\n",
      "Epoch 132/200\n",
      "17/17 [==============================] - 0s 3ms/step - loss: 0.4371 - accuracy: 0.7896\n",
      "Epoch 133/200\n",
      "17/17 [==============================] - 0s 3ms/step - loss: 0.4532 - accuracy: 0.7709\n",
      "Epoch 134/200\n",
      "17/17 [==============================] - 0s 3ms/step - loss: 0.4496 - accuracy: 0.7896\n",
      "Epoch 135/200\n",
      "17/17 [==============================] - 0s 3ms/step - loss: 0.4269 - accuracy: 0.8007\n",
      "Epoch 136/200\n",
      "17/17 [==============================] - 0s 3ms/step - loss: 0.4022 - accuracy: 0.8082\n",
      "Epoch 137/200\n",
      "17/17 [==============================] - 0s 3ms/step - loss: 0.3989 - accuracy: 0.8045\n",
      "Epoch 138/200\n",
      "17/17 [==============================] - 0s 3ms/step - loss: 0.3897 - accuracy: 0.8175\n",
      "Epoch 139/200\n",
      "17/17 [==============================] - 0s 3ms/step - loss: 0.4120 - accuracy: 0.7989\n",
      "Epoch 140/200\n",
      "17/17 [==============================] - 0s 3ms/step - loss: 0.4175 - accuracy: 0.8082\n",
      "Epoch 141/200\n",
      "17/17 [==============================] - 0s 3ms/step - loss: 0.4164 - accuracy: 0.8007\n",
      "Epoch 142/200\n",
      "17/17 [==============================] - 0s 3ms/step - loss: 0.4174 - accuracy: 0.8063\n",
      "Epoch 143/200\n",
      "17/17 [==============================] - 0s 3ms/step - loss: 0.3947 - accuracy: 0.8361\n",
      "Epoch 144/200\n",
      "17/17 [==============================] - 0s 3ms/step - loss: 0.4438 - accuracy: 0.7989\n",
      "Epoch 145/200\n",
      "17/17 [==============================] - 0s 3ms/step - loss: 0.4392 - accuracy: 0.7914\n",
      "Epoch 146/200\n",
      "17/17 [==============================] - 0s 3ms/step - loss: 0.4173 - accuracy: 0.7989\n",
      "Epoch 147/200\n",
      "17/17 [==============================] - 0s 3ms/step - loss: 0.4112 - accuracy: 0.8101\n",
      "Epoch 148/200\n",
      "17/17 [==============================] - 0s 3ms/step - loss: 0.4016 - accuracy: 0.8007\n",
      "Epoch 149/200\n",
      "17/17 [==============================] - 0s 3ms/step - loss: 0.4193 - accuracy: 0.8082\n",
      "Epoch 150/200\n",
      "17/17 [==============================] - 0s 3ms/step - loss: 0.3954 - accuracy: 0.8082\n",
      "Epoch 151/200\n",
      "17/17 [==============================] - 0s 3ms/step - loss: 0.4149 - accuracy: 0.7989\n",
      "Epoch 152/200\n",
      "17/17 [==============================] - 0s 3ms/step - loss: 0.4297 - accuracy: 0.7765\n",
      "Epoch 153/200\n",
      "17/17 [==============================] - 0s 3ms/step - loss: 0.4001 - accuracy: 0.8101\n",
      "Epoch 154/200\n",
      "17/17 [==============================] - 0s 3ms/step - loss: 0.3907 - accuracy: 0.8212\n",
      "Epoch 155/200\n",
      "17/17 [==============================] - 0s 3ms/step - loss: 0.4059 - accuracy: 0.8026\n",
      "Epoch 156/200\n",
      "17/17 [==============================] - 0s 3ms/step - loss: 0.4370 - accuracy: 0.7821\n",
      "Epoch 157/200\n",
      "17/17 [==============================] - 0s 3ms/step - loss: 0.3843 - accuracy: 0.8156\n",
      "Epoch 158/200\n",
      "17/17 [==============================] - 0s 3ms/step - loss: 0.4210 - accuracy: 0.7970\n",
      "Epoch 159/200\n",
      "17/17 [==============================] - 0s 4ms/step - loss: 0.4523 - accuracy: 0.7914\n",
      "Epoch 160/200\n",
      "17/17 [==============================] - 0s 5ms/step - loss: 0.4520 - accuracy: 0.7989\n",
      "Epoch 161/200\n",
      "17/17 [==============================] - 0s 2ms/step - loss: 0.4561 - accuracy: 0.7914\n",
      "Epoch 162/200\n",
      "17/17 [==============================] - 0s 2ms/step - loss: 0.4242 - accuracy: 0.7933\n",
      "Epoch 163/200\n",
      "17/17 [==============================] - 0s 2ms/step - loss: 0.3926 - accuracy: 0.8082\n",
      "Epoch 164/200\n",
      "17/17 [==============================] - 0s 2ms/step - loss: 0.3971 - accuracy: 0.8156\n",
      "Epoch 165/200\n",
      "17/17 [==============================] - 0s 5ms/step - loss: 0.4373 - accuracy: 0.8026\n",
      "Epoch 166/200\n",
      "17/17 [==============================] - 0s 3ms/step - loss: 0.3902 - accuracy: 0.8361\n",
      "Epoch 167/200\n",
      "17/17 [==============================] - 0s 3ms/step - loss: 0.4120 - accuracy: 0.8026\n",
      "Epoch 168/200\n",
      "17/17 [==============================] - 0s 3ms/step - loss: 0.4005 - accuracy: 0.8138\n",
      "Epoch 169/200\n",
      "17/17 [==============================] - 0s 3ms/step - loss: 0.3860 - accuracy: 0.8138\n",
      "Epoch 170/200\n",
      "17/17 [==============================] - 0s 3ms/step - loss: 0.4003 - accuracy: 0.8138\n",
      "Epoch 171/200\n",
      "17/17 [==============================] - 0s 3ms/step - loss: 0.3945 - accuracy: 0.8101\n",
      "Epoch 172/200\n",
      "17/17 [==============================] - 0s 3ms/step - loss: 0.3781 - accuracy: 0.8399\n",
      "Epoch 173/200\n",
      "17/17 [==============================] - 0s 3ms/step - loss: 0.4014 - accuracy: 0.8175\n",
      "Epoch 174/200\n",
      "17/17 [==============================] - 0s 3ms/step - loss: 0.3840 - accuracy: 0.8212\n",
      "Epoch 175/200\n",
      "17/17 [==============================] - 0s 3ms/step - loss: 0.3964 - accuracy: 0.7989\n",
      "Epoch 176/200\n",
      "17/17 [==============================] - 0s 3ms/step - loss: 0.3849 - accuracy: 0.8138\n",
      "Epoch 177/200\n",
      "17/17 [==============================] - 0s 4ms/step - loss: 0.3860 - accuracy: 0.8156\n",
      "Epoch 178/200\n",
      "17/17 [==============================] - 0s 6ms/step - loss: 0.3937 - accuracy: 0.8063\n",
      "Epoch 179/200\n",
      "17/17 [==============================] - 0s 2ms/step - loss: 0.3981 - accuracy: 0.8175\n",
      "Epoch 180/200\n",
      "17/17 [==============================] - 0s 2ms/step - loss: 0.3923 - accuracy: 0.8045\n",
      "Epoch 181/200\n",
      "17/17 [==============================] - 0s 2ms/step - loss: 0.3807 - accuracy: 0.8305\n",
      "Epoch 182/200\n",
      "17/17 [==============================] - 0s 2ms/step - loss: 0.3929 - accuracy: 0.8287\n",
      "Epoch 183/200\n",
      "17/17 [==============================] - 0s 3ms/step - loss: 0.4131 - accuracy: 0.7933\n",
      "Epoch 184/200\n",
      "17/17 [==============================] - 0s 3ms/step - loss: 0.3950 - accuracy: 0.8101\n",
      "Epoch 185/200\n",
      "17/17 [==============================] - 0s 4ms/step - loss: 0.3981 - accuracy: 0.8007\n",
      "Epoch 186/200\n",
      "17/17 [==============================] - 0s 2ms/step - loss: 0.3865 - accuracy: 0.8305\n",
      "Epoch 187/200\n",
      "17/17 [==============================] - 0s 3ms/step - loss: 0.3914 - accuracy: 0.8082\n",
      "Epoch 188/200\n",
      "17/17 [==============================] - 0s 3ms/step - loss: 0.4125 - accuracy: 0.8045\n",
      "Epoch 189/200\n",
      "17/17 [==============================] - 0s 3ms/step - loss: 0.3829 - accuracy: 0.8343\n",
      "Epoch 190/200\n",
      "17/17 [==============================] - 0s 3ms/step - loss: 0.4013 - accuracy: 0.8026\n",
      "Epoch 191/200\n",
      "17/17 [==============================] - 0s 3ms/step - loss: 0.4225 - accuracy: 0.8045\n",
      "Epoch 192/200\n",
      "17/17 [==============================] - 0s 3ms/step - loss: 0.4228 - accuracy: 0.7877\n",
      "Epoch 193/200\n",
      "17/17 [==============================] - 0s 3ms/step - loss: 0.3877 - accuracy: 0.8212\n",
      "Epoch 194/200\n",
      "17/17 [==============================] - 0s 3ms/step - loss: 0.3988 - accuracy: 0.8305\n",
      "Epoch 195/200\n",
      "17/17 [==============================] - 0s 3ms/step - loss: 0.4095 - accuracy: 0.8045\n",
      "Epoch 196/200\n",
      "17/17 [==============================] - 0s 3ms/step - loss: 0.4413 - accuracy: 0.7952\n",
      "Epoch 197/200\n",
      "17/17 [==============================] - 0s 3ms/step - loss: 0.4413 - accuracy: 0.7877\n",
      "Epoch 198/200\n",
      "17/17 [==============================] - 0s 3ms/step - loss: 0.4170 - accuracy: 0.7896\n",
      "Epoch 199/200\n",
      "17/17 [==============================] - 0s 3ms/step - loss: 0.3776 - accuracy: 0.8175\n",
      "Epoch 200/200\n",
      "17/17 [==============================] - 0s 3ms/step - loss: 0.3760 - accuracy: 0.8268\n"
     ]
    },
    {
     "data": {
      "text/plain": [
       "<keras.callbacks.History at 0x22d3f707710>"
      ]
     },
     "execution_count": 78,
     "metadata": {},
     "output_type": "execute_result"
    }
   ],
   "source": [
    "# Training for 200 epochs\n",
    "model.fit(x_train,y_train,epochs=200)"
   ]
  },
  {
   "cell_type": "code",
   "execution_count": null,
   "id": "09cd8f93",
   "metadata": {},
   "outputs": [],
   "source": []
  },
  {
   "cell_type": "code",
   "execution_count": 69,
   "id": "beee422d",
   "metadata": {},
   "outputs": [],
   "source": [
    "from sklearn.metrics import confusion_matrix"
   ]
  },
  {
   "cell_type": "code",
   "execution_count": 79,
   "id": "67d34900",
   "metadata": {},
   "outputs": [
    {
     "name": "stdout",
     "output_type": "stream",
     "text": [
      "8/8 [==============================] - 0s 1ms/step\n"
     ]
    }
   ],
   "source": [
    "y_test_pred = (model.predict(x_test)>0.5).astype(\"int32\")"
   ]
  },
  {
   "cell_type": "code",
   "execution_count": 80,
   "id": "844578c4",
   "metadata": {},
   "outputs": [],
   "source": [
    "cm = confusion_matrix(y_test,y_test_pred)"
   ]
  },
  {
   "cell_type": "code",
   "execution_count": 81,
   "id": "25db7db1",
   "metadata": {},
   "outputs": [
    {
     "name": "stdout",
     "output_type": "stream",
     "text": [
      "[[132  25]\n",
      " [ 30  44]]\n"
     ]
    }
   ],
   "source": [
    "print(cm)"
   ]
  },
  {
   "cell_type": "code",
   "execution_count": 82,
   "id": "4b417787",
   "metadata": {},
   "outputs": [
    {
     "data": {
      "image/png": "[encoded data removed]",
      "text/plain": [
       "<Figure size 640x480 with 1 Axes>"
      ]
     },
     "metadata": {},
     "output_type": "display_data"
    }
   ],
   "source": [
    "ax = sns.heatmap(cm, annot=True, xticklabels=[\"No Diabetics\",\"Diabetics\"], yticklabels=[\"No Diabetics\",\"Diabetics\"],\n",
    "                cbar=False,cmap='Blues')\n",
    "ax.set_xlabel('Prediction')\n",
    "ax.set_ylabel('Actual')\n",
    "plt.show()"
   ]
  },
  {
   "cell_type": "code",
   "execution_count": null,
   "id": "1323133a",
   "metadata": {},
   "outputs": [],
   "source": []
  },
  {
   "cell_type": "code",
   "execution_count": null,
   "id": "41db1af2",
   "metadata": {},
   "outputs": [],
   "source": []
  }
 ],
 "metadata": {
  "kernelspec": {
   "display_name": "Python 3 (ipykernel)",
   "language": "python",
   "name": "python3"
  },
  "language_info": {
   "codemirror_mode": {
    "name": "ipython",
    "version": 3
   },
   "file_extension": ".py",
   "mimetype": "text/x-python",
   "name": "python",
   "nbconvert_exporter": "python",
   "pygments_lexer": "ipython3",
   "version": "3.11.4"
  }
 },
 "nbformat": 4,
 "nbformat_minor": 5
}
